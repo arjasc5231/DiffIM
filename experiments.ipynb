{
 "cells": [
  {
   "cell_type": "code",
   "execution_count": null,
   "id": "410c5f49",
   "metadata": {},
   "outputs": [],
   "source": [
    "import import_ipynb\n",
    "from constants import *\n",
    "from utils import *\n",
    "\n",
    "from dataset import generate_dataset\n",
    "from train import train, hparam_tuning, evaluate_quality\n",
    "from algorithm_pipeline import pipeline"
   ]
  },
  {
   "cell_type": "code",
   "execution_count": 2,
   "id": "dff6c214",
   "metadata": {},
   "outputs": [],
   "source": [
    "# generate training and test datasets (seed sets)\n",
    "\n",
    "generate_dataset(graph_ET_train, 1000, saving_tag='-1000', print_epoch=100)\n",
    "generate_dataset(graph_ET_test, 50, saving_tag='-50', print_epoch=10)"
   ]
  },
  {
   "cell_type": "code",
   "execution_count": null,
   "id": "8a215982",
   "metadata": {},
   "outputs": [],
   "source": [
    "# train GNN models\n",
    "\n",
    "train(ET1000, ET50, saving_name='ET_2GCN.pt', hyper_params={'lr':0.05, 'lr_gamma':0.995, 'max_epoch':500, 'gnn_latent_dim':[128,128]}, gpu_num=0, print_epoch=50)\n",
    "#hparam_tuning(ET1000, ET50, saving_name='ET_2GCN.pt', gpu_num=0)"
   ]
  },
  {
   "cell_type": "code",
   "execution_count": null,
   "id": "538ca28f",
   "metadata": {},
   "outputs": [],
   "source": [
    "# evaluate influence estimation quality\n",
    "\n",
    "evaluate_quality(model_ET_2GCN, [128,128], ET1000, gpu_num=0)"
   ]
  },
  {
   "cell_type": "code",
   "execution_count": null,
   "id": "be29a33b",
   "metadata": {},
   "outputs": [],
   "source": [
    "# run algorithms\n",
    "\n",
    "pipeline(\"random\", ET50, 5, verbose=True)\n",
    "pipeline(\"outdegree\", ET50, 5)\n",
    "pipeline(\"betweenness\", ET50, 5)\n",
    "pipeline(\"pagerank\", ET50, 5)\n",
    "pipeline(\"KED\", ET50, 5)\n",
    "pipeline(\"MDS\", ET50, 5)\n",
    "pipeline(\"BPM\", ET50, 5, save_tag='_10000', sampling_num=10000)\n",
    "pipeline(\"MBPM\", ET50, 5, save_tag='_10000', sampling_num=10000)\n",
    "pipeline(\"greedy\", ET50, 5, save_tag='_100', simul_num=100)\n",
    "\n",
    "pipeline(\"RumorGuard_I\", ET50, 5, save_tag='_2GCN', model_name=model_ET_2GCN, gnn_latent_dim=[128,128], gpu_num=0)\n",
    "pipeline(\"RumorGuard_O\", ET50, 5, save_tag='_2GCN', model_name=model_ET_2GCN, gnn_latent_dim=[128,128], gpu_num=0, **defualt_hyper_params)\n",
    "pipeline(\"RumorGuard_G\", ET50, 5, save_tag='_2GCN', model_name=model_ET_2GCN, gnn_latent_dim=[128,128], gpu_num=0)"
   ]
  }
 ],
 "metadata": {
  "kernelspec": {
   "display_name": "Python 3 (ipykernel)",
   "language": "python",
   "name": "python3"
  },
  "language_info": {
   "codemirror_mode": {
    "name": "ipython",
    "version": 3
   },
   "file_extension": ".py",
   "mimetype": "text/x-python",
   "name": "python",
   "nbconvert_exporter": "python",
   "pygments_lexer": "ipython3",
   "version": "3.10.11"
  }
 },
 "nbformat": 4,
 "nbformat_minor": 5
}
