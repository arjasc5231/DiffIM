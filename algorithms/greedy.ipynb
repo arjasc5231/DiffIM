{
 "cells": [
  {
   "cell_type": "code",
   "execution_count": null,
   "id": "3c70ebb3",
   "metadata": {
    "tags": []
   },
   "outputs": [],
   "source": [
    "import os\n",
    "import numpy as np\n",
    "import time\n",
    "\n",
    "import torch\n",
    "from torch_geometric.data import Dataset, Data\n",
    "\n",
    "import import_ipynb\n",
    "from simulation import simul_fromData, simul\n",
    "from constants import *\n",
    "from utils import set_gpu, load_model, adj2Data"
   ]
  },
  {
   "cell_type": "code",
   "execution_count": null,
   "id": "7d87ac79-27af-48cd-bb70-f0d2f751fef2",
   "metadata": {
    "scrolled": true,
    "tags": []
   },
   "outputs": [],
   "source": [
    "def greedy_orig(adj_list_tup, seed_idx, del_edge_num, simul_num=SIMUL_NUM):\n",
    "    time_start = time.time()\n",
    "    time_alg = []\n",
    "    n = len(adj_list_tup)\n",
    "    \n",
    "    # since dataset's adj list is of type tuple, convert it to list\n",
    "    adj_list = [[[v,p] for v,p in adj_list_tup[u]] for u in range(n)]\n",
    "    \n",
    "    mask = []\n",
    "    for _ in range(del_edge_num):\n",
    "        pred_min = float('inf')\n",
    "        idx_min = None\n",
    "        for u in range(n):\n",
    "            for i,(v,p) in enumerate(adj_list[u]):\n",
    "                if p==0: continue\n",
    "                adj_list[u][i][1]=0\n",
    "                pred = sum(simul(adj_list,seed_idx,simul_num))\n",
    "                adj_list[u][i][1]=p\n",
    "                if pred<pred_min: pred_min = pred; idx_min=(u,v,i,p)\n",
    "        mask.append([idx_min[0],idx_min[1],idx_min[3]])\n",
    "        adj_list[idx_min[0]][idx_min[2]][1]=0\n",
    "\n",
    "        time_alg.append(time.time()-time_start)\n",
    "    return mask, time_alg"
   ]
  }
 ],
 "metadata": {
  "kernelspec": {
   "display_name": "Python 3 (ipykernel)",
   "language": "python",
   "name": "python3"
  },
  "language_info": {
   "codemirror_mode": {
    "name": "ipython",
    "version": 3
   },
   "file_extension": ".py",
   "mimetype": "text/x-python",
   "name": "python",
   "nbconvert_exporter": "python",
   "pygments_lexer": "ipython3",
   "version": "3.10.11"
  }
 },
 "nbformat": 4,
 "nbformat_minor": 5
}
