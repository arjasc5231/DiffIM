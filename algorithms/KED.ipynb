{
 "cells": [
  {
   "cell_type": "code",
   "execution_count": 1,
   "id": "2150a0c3-c454-4639-a4fb-2b0a674691ab",
   "metadata": {},
   "outputs": [],
   "source": [
    "import gzip\n",
    "import pickle\n",
    "import numpy as np\n",
    "import scipy\n",
    "import time"
   ]
  },
  {
   "cell_type": "code",
   "execution_count": 29,
   "id": "46ee78b8-8122-4dcf-8a4d-332a4ff09666",
   "metadata": {},
   "outputs": [],
   "source": [
    "def power_method(A, iter_num=1000, eps=1e-6):\n",
    "    x = np.random.rand(A.shape[1])\n",
    "    lam_prev = float('inf')\n",
    "    for i in range(iter_num):\n",
    "        x = A @ x\n",
    "        x = x / np.linalg.norm(x)\n",
    "        lam = (x.T @ A @ x) / (x.T @ x)\n",
    "        if abs(lam - lam_prev) < eps : break\n",
    "        lam_prev = lam\n",
    "    return x, lam\n",
    "\n",
    "\n",
    "def KED(adj_list, seed_idx, del_edge_num, use_npy=False):\n",
    "    time_alg = -time.time()\n",
    "    # convert adj list to adj matrix & make edge list\n",
    "    n = len(adj_list)\n",
    "    adj_mat = [[0]*n for _ in range(n)]\n",
    "    edge = []\n",
    "    for u in range(n):\n",
    "        for v,p in adj_list[u]:\n",
    "            adj_mat[u][v] = p\n",
    "            edge.append([u,v,p])\n",
    "    adj_mat = np.array(adj_mat)\n",
    "\n",
    "    # calculate eigenvalue, eigenvector \n",
    "    if use_npy==False:\n",
    "        Evec_r, Eval_r = power_method(adj_mat)\n",
    "        Evec_l, Eval_l = power_method(adj_mat.T)\n",
    "    if use_npy==True:\n",
    "        eigenValues, eigenVectors = np.linalg.eig(adj_mat)\n",
    "        idx = eigenValues.argsort()[::-1]   \n",
    "        eigenValues = eigenValues[idx]\n",
    "        eigenVectors = eigenVectors[:,idx]\n",
    "        Evec_r = eigenVectors[0]\n",
    "        Eval_r = eigenValues[0]\n",
    "        eigenValues, eigenVectors = np.linalg.eig(adj_mat.T)\n",
    "        idx = eigenValues.argsort()[::-1]   \n",
    "        eigenValues = eigenValues[idx]\n",
    "        eigenVectors = eigenVectors[:,idx]\n",
    "        Evec_l = eigenVectors[0]\n",
    "        Eval_l = eigenValues[0]\n",
    "\n",
    "    if min(Evec_r)<0: Evec_r=-Evec_r\n",
    "    if min(Evec_l)<0: Evec_l=-Evec_l\n",
    "\n",
    "    # sort about score\n",
    "    edge.sort(key=lambda x: Evec_l[x[0]]*Evec_r[x[1]], reverse=True)\n",
    "\n",
    "    time_alg += time.time()\n",
    "    return edge[:del_edge_num], time_alg"
   ]
  }
 ],
 "metadata": {
  "kernelspec": {
   "display_name": "Python 3 (ipykernel)",
   "language": "python",
   "name": "python3"
  },
  "language_info": {
   "codemirror_mode": {
    "name": "ipython",
    "version": 3
   },
   "file_extension": ".py",
   "mimetype": "text/x-python",
   "name": "python",
   "nbconvert_exporter": "python",
   "pygments_lexer": "ipython3",
   "version": "3.10.11"
  }
 },
 "nbformat": 4,
 "nbformat_minor": 5
}
