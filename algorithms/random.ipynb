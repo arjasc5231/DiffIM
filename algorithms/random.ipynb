{
 "cells": [
  {
   "cell_type": "code",
   "execution_count": null,
   "id": "7ee0be11-7b75-4b27-8417-baf22c024ae3",
   "metadata": {},
   "outputs": [],
   "source": [
    "import random\n",
    "import time"
   ]
  },
  {
   "cell_type": "code",
   "execution_count": null,
   "id": "de867b98-53b0-4ecf-9eab-1dbcca5c68ce",
   "metadata": {},
   "outputs": [],
   "source": [
    "def random_edge(adj_list, seed_idx, del_edge_num):\n",
    "    time_alg = -time.time()\n",
    "    \n",
    "    n = len(adj_list)\n",
    "    edge = []\n",
    "    for u in range(n):\n",
    "        for v,p in adj_list[u]: edge.append([u,v,p])\n",
    "\n",
    "    time_alg += time.time()\n",
    "    return random.sample(edge, del_edge_num), time_alg"
   ]
  }
 ],
 "metadata": {
  "kernelspec": {
   "display_name": "Python 3 (ipykernel)",
   "language": "python",
   "name": "python3"
  },
  "language_info": {
   "codemirror_mode": {
    "name": "ipython",
    "version": 3
   },
   "file_extension": ".py",
   "mimetype": "text/x-python",
   "name": "python",
   "nbconvert_exporter": "python",
   "pygments_lexer": "ipython3",
   "version": "3.10.11"
  }
 },
 "nbformat": 4,
 "nbformat_minor": 5
}
