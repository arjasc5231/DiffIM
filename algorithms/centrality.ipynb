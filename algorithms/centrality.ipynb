{
 "cells": [
  {
   "cell_type": "code",
   "execution_count": null,
   "id": "e8f7b0c7-d20a-4e84-8a4b-7987ae6928c5",
   "metadata": {},
   "outputs": [],
   "source": [
    "import os\n",
    "import numpy as np\n",
    "import time\n",
    "\n",
    "import networkx as nx\n",
    "\n",
    "import import_ipynb\n",
    "from constants import *\n",
    "from utils import list2mat"
   ]
  },
  {
   "cell_type": "code",
   "execution_count": null,
   "id": "3386173c-0e28-4786-8a29-874b56e7c231",
   "metadata": {},
   "outputs": [],
   "source": [
    "def outdegree(adj_list, seed_idx, del_edge_num, mult=False):\n",
    "    time_alg = -time.time()\n",
    "    if mult : f = lambda x,y: x*y\n",
    "    else: f = lambda x,y: x+y\n",
    "\n",
    "    n = len(adj_list)\n",
    "    deg = [len(adj_list[u]) for u in range(n)]\n",
    "    edge = []\n",
    "    for u in range(n):\n",
    "        for v,p in adj_list[u]: edge.append((u,v,p))\n",
    "\n",
    "    edge.sort(key=lambda x: f(deg[x[0]],deg[x[1]]), reverse=True)\n",
    "\n",
    "    time_alg+=time.time()\n",
    "    return edge[:del_edge_num], time_alg"
   ]
  },
  {
   "cell_type": "code",
   "execution_count": null,
   "id": "9e4a5399-f62a-4987-b48d-b60e99ef251d",
   "metadata": {},
   "outputs": [],
   "source": [
    "def betweenness(adj_list, seed_idx, del_edge_num):\n",
    "    time_alg = -time.time()\n",
    "\n",
    "    n = len(adj_list)\n",
    "    adj_mat = [[0]*n for _ in range(n)]\n",
    "    edge = []\n",
    "    for u in range(n):\n",
    "        for v,p in adj_list[u]:\n",
    "            if adj_mat[u][v] !=0 : print('double!!!!')\n",
    "            if p==0: print('asdfsdf')\n",
    "            adj_mat[u][v] = p\n",
    "            edge.append((u,v,p))\n",
    "    adj_mat = np.array(adj_mat)\n",
    "\n",
    "    G = nx.DiGraph(adj_mat)\n",
    "    scores = nx.edge_betweenness_centrality(G)\n",
    "    \n",
    "    edge.sort(key=lambda x: scores[(x[0],x[1])], reverse=True)\n",
    "\n",
    "    time_alg+=time.time()\n",
    "    return edge[:del_edge_num], time_alg"
   ]
  },
  {
   "cell_type": "code",
   "execution_count": null,
   "id": "dc59ff30-4965-4389-b11e-08df2bf63da7",
   "metadata": {},
   "outputs": [],
   "source": [
    "def pagerank(adj_list, seed_idx, del_edge_num, mult=False):\n",
    "    time_alg = -time.time()\n",
    "    if mult : f = lambda x,y: x*y\n",
    "    else: f = lambda x,y: x+y\n",
    "\n",
    "    n = len(adj_list)\n",
    "    adj_mat = [[0]*n for _ in range(n)]\n",
    "    edge = []\n",
    "    for u in range(n):\n",
    "        for v,p in adj_list[u]:\n",
    "            adj_mat[u][v] = p\n",
    "            edge.append((u,v,p))\n",
    "    adj_mat = np.array(adj_mat)\n",
    "\n",
    "    G = nx.DiGraph(adj_mat)\n",
    "    scores = nx.pagerank(G)\n",
    "    \n",
    "    edge.sort(key=lambda x: f(scores[x[0]],scores[x[1]]), reverse=True)\n",
    "\n",
    "    time_alg+=time.time()\n",
    "    return edge[:del_edge_num], time_alg"
   ]
  }
 ],
 "metadata": {
  "kernelspec": {
   "display_name": "",
   "name": ""
  },
  "language_info": {
   "name": ""
  }
 },
 "nbformat": 4,
 "nbformat_minor": 5
}
