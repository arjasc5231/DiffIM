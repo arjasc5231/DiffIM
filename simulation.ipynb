{
 "cells": [
  {
   "cell_type": "code",
   "execution_count": null,
   "id": "ac424c2a",
   "metadata": {
    "tags": []
   },
   "outputs": [],
   "source": [
    "import random\n",
    "import pickle\n",
    "import gzip\n",
    "from collections import deque\n",
    "import numpy as np\n",
    "import torch\n",
    "from torch_geometric.data import Data\n",
    "from multiprocessing import Pool\n",
    "\n",
    "import import_ipynb\n",
    "from constants import *"
   ]
  },
  {
   "cell_type": "code",
   "execution_count": null,
   "id": "7e2c66bf",
   "metadata": {
    "tags": []
   },
   "outputs": [],
   "source": [
    "def simul_fromData(data, hard_mask):\n",
    "    x = data.x.numpy().squeeze().astype(int)\n",
    "    edge_index = data.edge_index.numpy()\n",
    "    edge_attr = data.edge_attr.numpy().squeeze()\n",
    "    n = len(x)\n",
    "    m = len(edge_attr)\n",
    "    \n",
    "    seed_idx = np.where(x==1)[0]\n",
    "    adj_list = [[] for _ in range(n)]\n",
    "    for i in range(m):\n",
    "        if not hard_mask[i]: continue\n",
    "        u,v,p = edge_index[0,i], edge_index[1,i],edge_attr[i]\n",
    "        adj_list[u].append((v,p))\n",
    "    return simul_multi(adj_list, seed_idx)"
   ]
  },
  {
   "cell_type": "code",
   "execution_count": null,
   "id": "c7c0d222",
   "metadata": {
    "tags": []
   },
   "outputs": [],
   "source": [
    "def simul(adj_list, seed_idx, simul_num=SIMUL_NUM, step_max=100):\n",
    "    n = len(adj_list)\n",
    "    seed = np.zeros(n, dtype=int)\n",
    "    seed[seed_idx] = 1\n",
    "    \n",
    "    active_num = np.zeros(n, dtype=int)\n",
    "    \n",
    "    for _ in range(simul_num):\n",
    "        active = seed.copy()\n",
    "        \n",
    "        Q = deque(seed_idx)\n",
    "        for _ in range(step_max):\n",
    "            if not Q: break\n",
    "            for _ in range(len(Q)):\n",
    "                u = Q.popleft()\n",
    "                for v,p in adj_list[u]:\n",
    "                    if active[v]: continue\n",
    "                    if random.random()<p:\n",
    "                        active[v]=1\n",
    "                        Q.append(v)\n",
    "        active_num+=active\n",
    "    \n",
    "    prob = active_num/simul_num\n",
    "    return prob\n",
    "\n",
    "\n",
    "\n",
    "def simul_multi_helper(adj_list, seed_idx):\n",
    "    step_max=100\n",
    "    n = len(adj_list)\n",
    "    active = np.zeros(n, dtype=int)\n",
    "    active[seed_idx] = 1\n",
    "    Q = deque(seed_idx)\n",
    "    for _ in range(step_max):\n",
    "        if not Q: break\n",
    "        for _ in range(len(Q)):\n",
    "            u = Q.popleft()\n",
    "            for v,p in adj_list[u]:\n",
    "                if active[v]: continue\n",
    "                if random.random()<p:\n",
    "                    active[v]=1\n",
    "                    Q.append(v)\n",
    "    return active\n",
    "def simul_multi(adj_list, seed_idx, simul_num=SIMUL_NUM):\n",
    "    \n",
    "    with Pool(10) as p: result = p.starmap(simul_multi_helper, [(adj_list, seed_idx) for i in range(simul_num)])\n",
    "    \n",
    "    result = np.sum(result,axis=0)\n",
    "    prob = result/simul_num\n",
    "    \n",
    "    return prob"
   ]
  }
 ],
 "metadata": {
  "kernelspec": {
   "display_name": "Python 3 (ipykernel)",
   "language": "python",
   "name": "python3"
  },
  "language_info": {
   "codemirror_mode": {
    "name": "ipython",
    "version": 3
   },
   "file_extension": ".py",
   "mimetype": "text/x-python",
   "name": "python",
   "nbconvert_exporter": "python",
   "pygments_lexer": "ipython3",
   "version": "3.10.11"
  }
 },
 "nbformat": 4,
 "nbformat_minor": 5
}
