{
 "cells": [
  {
   "cell_type": "code",
   "execution_count": null,
   "id": "0db545db-c51f-40d1-8db5-f8bbb1ef0ae1",
   "metadata": {},
   "outputs": [],
   "source": [
    "GRAPH_DIR = './graphs/'\n",
    "DATASET_DIR = './datasets/'\n",
    "MODEL_DIR = './models/'\n",
    "RESULT_DIR = './results/'\n",
    "\n",
    "SEED_SIZE = 0.01\n",
    "BATCH_SIZE = 20\n",
    "SIMUL_NUM = 10000\n",
    "\n",
    "default_hyper_params = {'epochs':1000, 'lr': 1.0, 'lr_gamma': 0.995, 'size_coeff':10, 'ent_coeff':1}\n",
    "no_certainty_hyper_params = {'epochs':1000, 'lr': 1.0, 'lr_gamma': 0.995, 'size_coeff':10, 'ent_coeff':0}\n",
    "no_budget_hyper_params = {'epochs':1000, 'lr': 1.0, 'lr_gamma': 0.995, 'size_coeff':0, 'ent_coeff':1}\n",
    "\n",
    "layer_dim2 = [128,128]\n",
    "layer_dim6 = [128,128,128,128,128,128]\n",
    "\n",
    "ABBR = {'Extended_test_LP-50.pkl.gz':'ET', 'Celebrity_test_LP-50.pkl.gz':'CL', 'WannaCry_test_LP-50.pkl.gz':'WC'}\n",
    "names = ['ET', 'CL', 'WC']\n",
    "\n",
    "graph_ET_train = 'Extended_train_LP.txt'\n",
    "graph_CL_train = 'Celebrity_train_LP.txt'\n",
    "graph_WC_train = 'WannaCry_train_LP.txt'\n",
    "\n",
    "graph_ET_test = 'Extended_test_LP.txt'\n",
    "graph_CL_test = 'Celebrity_test_LP.txt'\n",
    "graph_WC_test = 'WannaCry_test_LP.txt'\n",
    "\n",
    "ET1000 = 'Extended_train_LP-1000.pkl.gz'\n",
    "CL1000 = 'Celebrity_train_LP-1000.pkl.gz'\n",
    "WC1000 = 'WannaCry_train_LP-1000.pkl.gz'\n",
    "\n",
    "ET50 = 'Extended_test_LP-50.pkl.gz'\n",
    "CL50 = 'Celebrity_test_LP-50.pkl.gz'\n",
    "WC50 = 'WannaCry_test_LP-50.pkl.gz'\n",
    "datasets = [ET50, CL50, WC50]\n",
    "\n",
    "model_ET_2GCN = 'ET_1000_2GCN.pt'\n",
    "model_CL_2GCN = 'CL_1000_2GCN.pt'\n",
    "model_WC_2GCN = 'WC_1000_2GCN.pt'\n",
    "models_2GCN = [model_ET_2GCN, model_CL_2GCN, model_WC_2GCN]\n",
    "\n",
    "model_ET_6GCN = 'ET_1000.pt'\n",
    "model_CL_6GCN = 'CL_1000.pt'\n",
    "model_WC_6GCN = 'WC_1000.pt'\n",
    "models_6GCN = [model_ET_6GCN, model_CL_6GCN, model_WC_6GCN]"
   ]
  }
 ],
 "metadata": {
  "kernelspec": {
   "display_name": "Python 3 (ipykernel)",
   "language": "python",
   "name": "python3"
  },
  "language_info": {
   "codemirror_mode": {
    "name": "ipython",
    "version": 3
   },
   "file_extension": ".py",
   "mimetype": "text/x-python",
   "name": "python",
   "nbconvert_exporter": "python",
   "pygments_lexer": "ipython3",
   "version": "3.10.11"
  }
 },
 "nbformat": 4,
 "nbformat_minor": 5
}
