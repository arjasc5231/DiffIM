{
 "cells": [
  {
   "cell_type": "code",
   "execution_count": null,
   "id": "0db545db-c51f-40d1-8db5-f8bbb1ef0ae1",
   "metadata": {},
   "outputs": [],
   "source": [
    "GRAPH_DIR = './graphs/'\n",
    "DATASET_DIR = './datasets/'\n",
    "MODEL_DIR = './models/'\n",
    "RESULT_DIR = './results/'\n",
    "\n",
    "SEED_SIZE = 0.01\n",
    "BATCH_SIZE = 20\n",
    "SIMUL_NUM = 10000\n",
    "\n",
    "DEFAULT_MODEL = 'W_LP_1000_2GCN.pt'"
   ]
  }
 ],
 "metadata": {
  "kernelspec": {
   "display_name": "Python 3 (ipykernel)",
   "language": "python",
   "name": "python3"
  },
  "language_info": {
   "codemirror_mode": {
    "name": "ipython",
    "version": 3
   },
   "file_extension": ".py",
   "mimetype": "text/x-python",
   "name": "python",
   "nbconvert_exporter": "python",
   "pygments_lexer": "ipython3",
   "version": "3.10.11"
  }
 },
 "nbformat": 4,
 "nbformat_minor": 5
}
